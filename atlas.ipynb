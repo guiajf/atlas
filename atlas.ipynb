{
 "cells": [
  {
   "cell_type": "markdown",
   "id": "599e7327-573b-4cfa-b160-3fe9786b6064",
   "metadata": {},
   "source": [
    "# Atlas da Violência 2024"
   ]
  },
  {
   "cell_type": "markdown",
   "id": "75598a52-1a2e-4839-a413-27298edfb71c",
   "metadata": {},
   "source": [
    "O Atlas da Violência produzido pelo Instituto de Pesquisa Econômica Aplicada (IPEA), em parceria com o Fórum Brasileiro de Segurança Pública (FBSP), é divulgado anualmente com dois anos de defasagem. <br>\n",
    "As [publicações](https://www.ipea.gov.br/atlasviolencia/publicacoes) e [estatísticas](https://www.ipea.gov.br/atlasviolencia/filtros-series) estão disponíveis no portal do [IPEA](portal)."
   ]
  },
  {
   "cell_type": "markdown",
   "id": "b4c716f0-febb-44fd-9ea3-8313fe269b57",
   "metadata": {},
   "source": [
    "Com um ligeiro intervalo, as séries históricas vão de 1989 a 1995 e de 2000 a 2022."
   ]
  },
  {
   "cell_type": "code",
   "execution_count": 7,
   "id": "9bf680c4-5143-4083-8f43-c45fca35de4f",
   "metadata": {
    "scrolled": true
   },
   "outputs": [
    {
     "name": "stdout",
     "output_type": "stream",
     "text": [
      "\n",
      "\n",
      "2024-06-19 11:20                                                Página 1\n",
      "\n",
      "\n",
      "1989\t    1994\t2003\t    2008\t2013\t    2018\n",
      "1990\t    1995\t2004\t    2009\t2014\t    2019\n",
      "1991\t    2000\t2005\t    2010\t2015\t    2020\n",
      "1992\t    2001\t2006\t    2011\t2016\t    2021\n",
      "1993\t    2002\t2007\t    2012\t2017\t    2022\n",
      "\n",
      "\n",
      "\n",
      "\n",
      "\n",
      "\n",
      "\n",
      "\n",
      "\n",
      "\n",
      "\n",
      "\n",
      "\n",
      "\n",
      "\n",
      "\n",
      "\n",
      "\n",
      "\n",
      "\n",
      "\n",
      "\n",
      "\n",
      "\n",
      "\n",
      "\n",
      "\n",
      "\n",
      "\n",
      "\n",
      "\n",
      "\n",
      "\n",
      "\n",
      "\n",
      "\n",
      "\n",
      "\n",
      "\n",
      "\n",
      "\n",
      "\n",
      "\n",
      "\n",
      "\n",
      "\n",
      "\n",
      "\n",
      "\n",
      "\n",
      "\n",
      "\n",
      "\n",
      "\n",
      "\n",
      "\n"
     ]
    }
   ],
   "source": [
    "awk -F\";\" 'NR>1 {print $3}' taxa_homicidios_2024.csv | sort -u | pr -6"
   ]
  },
  {
   "cell_type": "markdown",
   "id": "dbebba43-9d28-4695-8d02-068e94935e66",
   "metadata": {},
   "source": [
    "## Inspeção dos dados"
   ]
  },
  {
   "cell_type": "markdown",
   "id": "266fc8a5-7810-4aeb-8e3a-bff7b98493a9",
   "metadata": {},
   "source": [
    "### Visualizamos a série histórica da taxa de homicídios:"
   ]
  },
  {
   "cell_type": "code",
   "execution_count": 16,
   "id": "a56f2172-f551-4c09-aead-6700876dc87b",
   "metadata": {},
   "outputs": [
    {
     "name": "stdout",
     "output_type": "stream",
     "text": [
      "cod;nome;período;valor\n",
      "5213756;Montividiu;1989;0\n",
      "5213707;\"Montes Claros de Goiás\";1989;11.63\n",
      "5213509;\"Monte Alegre de Goiás\";1989;12.73\n",
      "5213400;Moiporá;1989;0\n",
      "5213103;Mineiros;1989;0\n",
      "5213087;Minaçu;1989;3.18\n",
      "5213053;\"Mimoso de Goiás\";1989;0\n",
      "5213004;Maurilândia;1989;0\n",
      "5212956;Matrinchã;1989;0\n"
     ]
    }
   ],
   "source": [
    " awk 'NR <= 10' taxa_homicidios_2024.csv"
   ]
  },
  {
   "cell_type": "markdown",
   "id": "1a977d1d-68c5-4ecf-bada-3d9b76452d8e",
   "metadata": {},
   "source": [
    "### Ordenamos em ordem descendente:"
   ]
  },
  {
   "cell_type": "code",
   "execution_count": 20,
   "id": "9cfca3fc-aae7-4dea-8a13-8e2ecc5ce959",
   "metadata": {},
   "outputs": [
    {
     "name": "stdout",
     "output_type": "stream",
     "text": [
      "cod;nome;período;valor\n",
      "1501402;Belém;2022;7179.16\n",
      "2109908;\"Santa Inês\";2022;2402.75\n",
      "1400100;\"Boa Vista\";2022;2320.84\n",
      "5002704;\"Campo Grande\";2022;2087.68\n",
      "1200401;\"Rio Branco\";2022;2050.72\n",
      "2305506;Iguatu;2022;1585.82\n",
      "3171303;Viçosa;2022;1372.12\n",
      "3547809;\"Santo André\";2022;1334.86\n",
      "2903409;Belmonte;2022;1015.8\n",
      "4110706;Irati;2022;821.65\n"
     ]
    }
   ],
   "source": [
    " awk -F\";\" 'BEGIN {OFS=\";\"} ($3 == 2022) {print $0}' taxa_homicidios_2024.csv | \\\n",
    " sort -t\";\" -k4,4gr | \\\n",
    " awk 'NR <= 10' | \\\n",
    " awk -F\";\" 'BEGIN {print \"cod;nome;período;valor\"} { print $0}' "
   ]
  },
  {
   "cell_type": "markdown",
   "id": "76ed0ecf-8d06-4e75-b60d-eeabf5a83a65",
   "metadata": {},
   "source": [
    "### Descrição da tabela:"
   ]
  },
  {
   "cell_type": "markdown",
   "id": "9f5266d7-a08a-434d-a38c-bed2ac72dd96",
   "metadata": {},
   "source": [
    "A tabela contém quatro colunas:<br>\n",
    "a primeira informa o código do município, de acordo com o padrão do IBGE;<br>\n",
    "a segunda, o nome do município;<br>\n",
    "a terceira, o período - que corresponde ao ano da apuração;<br>\n",
    "a quarta e última, o valor - que corresponde à taxa de homicídios apurada.<br>"
   ]
  },
  {
   "cell_type": "markdown",
   "id": "686e0d14-867c-44d9-8f8b-af05089d8ecb",
   "metadata": {},
   "source": [
    "### Cálculo da taxa de homicídios"
   ]
  },
  {
   "cell_type": "markdown",
   "id": "677ca7c9-b433-46e5-be7d-1868328a9b09",
   "metadata": {},
   "source": [
    "A taxa de homicídios é um indicador calculado de acordo com a fórmula:<br>\n",
    "<center>$Óbitos/População$ $ * 100.000$<br><br>\n",
    "\n",
    "Utilizou-se a tabela de população divulgada pelo [IBGE](https://www.ibge.gov.br/estatisticas/sociais/populacao/22827-censo-demografico-2022.html?edicao=37225&t=resultados) correspondente ao censo demográfico realizado em 2022.\n"
   ]
  },
  {
   "cell_type": "markdown",
   "id": "dc05dcc3-71a4-401d-abc9-46f71e02817f",
   "metadata": {},
   "source": [
    "### Visualizamos a tabela do censo demográfico 2022"
   ]
  },
  {
   "cell_type": "code",
   "execution_count": 22,
   "id": "d01278d5-08a0-4fa5-8ab2-feab3b37815b",
   "metadata": {},
   "outputs": [
    {
     "name": "stdout",
     "output_type": "stream",
     "text": [
      ";UF;COD. UF;COD. MUNIC;NOME DO MUNICÍPIO;POP. COLETADA;POP. IMPUTADA;POP. TOTAL\n",
      ";RO;11;00015;Alta Floresta D'Oeste; 20 865;  629; 21 494\n",
      ";RO;11;00023;Ariquemes; 93 006; 3 827; 96 833\n",
      ";RO;11;00031;Cabixi; 5 100;  251; 5 351\n",
      ";RO;11;00049;Cacoal; 84 923; 1 964; 86 887\n",
      ";RO;11;00056;Cerejeiras; 15 297;  593; 15 890\n",
      ";RO;11;00064;Colorado do Oeste; 14 962;  701; 15 663\n",
      ";RO;11;00072;Corumbiara; 7 164;  355; 7 519\n",
      ";RO;11;00080;Costa Marques; 12 511;  116; 12 627\n",
      ";RO;11;00098;Espigão D'Oeste; 28 182; 1 232; 29 414\n"
     ]
    }
   ],
   "source": [
    " awk 'NR <= 10' Censo_PNAD2022_20231222.csv"
   ]
  },
  {
   "cell_type": "markdown",
   "id": "87bf4a3d-7498-4029-9b6f-5fb677713d18",
   "metadata": {},
   "source": [
    "Removemos a primeira, a sexta e a sétima colunas e substituímos o separador de milhar:"
   ]
  },
  {
   "cell_type": "code",
   "execution_count": 4,
   "id": "faa66a2f-fc31-4189-9a91-2fafdff28ca8",
   "metadata": {},
   "outputs": [
    {
     "name": "stdout",
     "output_type": "stream",
     "text": [
      "UF;COD. UF;COD. MUNIC;NOME DO MUNICÍPIO;POP. TOTAL\n",
      "MG;31;66600;Serra da Saudade;833\n",
      "SP;35;07209;Borá;907\n",
      "GO;52;01207;Anhanguera;924\n",
      "MT;51;01209;Araguainha;1010\n",
      "SP;35;32868;Nova Castilho;1062\n",
      "MG;31;15607;Cedro do Abaeté;1081\n",
      "RS;43;00661;André da Rocha;1135\n",
      "TO;17;15507;Oliveira de Fátima;1164\n",
      "RS;43;22350;União da Serra;1170\n"
     ]
    }
   ],
   "source": [
    "awk -F';' '{OFS=\";\"} NR==1 { print $2,$3,$4,$5,$8 } \n",
    "NR>1 { gsub(/ /, \"\", $8); print $2,$3,$4,$5,$8 }' Censo_PNAD2022_20231222.csv | \\\n",
    "sort -t\";\" -k5,5n | head\n"
   ]
  },
  {
   "cell_type": "markdown",
   "id": "4dde8e6b-120f-42a1-a8e3-f4c69347d0e0",
   "metadata": {},
   "source": [
    "### Junção das tabelas"
   ]
  },
  {
   "cell_type": "markdown",
   "id": "05e1da0b-6b05-47f8-8778-381488e33567",
   "metadata": {},
   "source": [
    "Na tabela \"taxa_homicidios_2024.csv\", os dois primeiros dígitos do código do município contém o Código da UF, de acordo com a tabela do IBGE. Na tabela do Censo 2022, os códigos da UF e do Município são apresentados em colunas separadas.<br>"
   ]
  },
  {
   "cell_type": "markdown",
   "id": "e65d2f67-c414-4489-bf76-9a8be6b06752",
   "metadata": {},
   "source": [
    "Primeiro, salvamos as modificações anteriores em um arquivo temporário:"
   ]
  },
  {
   "cell_type": "code",
   "execution_count": 7,
   "id": "fa2b0883-ff80-4921-b621-143aee9cc6c8",
   "metadata": {},
   "outputs": [],
   "source": [
    "awk -F';' '{OFS=\";\"} NR==1 { print $2,$3,$4,$5,$8 } \n",
    "NR>1 { gsub(/ /, \"\", $8); print $2,$3,$4,$5,$8 }' Censo_PNAD2022_20231222.csv | \\\n",
    "sort -t\";\" -k5,5n > temp.csv"
   ]
  },
  {
   "cell_type": "markdown",
   "id": "7cab0493-d2da-4a89-ac61-8440473c69c4",
   "metadata": {},
   "source": [
    "Depois, unificamos os códigos da UF e Município em uma nova coluna, para padronizar a disposição das duas tabelas:"
   ]
  },
  {
   "cell_type": "code",
   "execution_count": 10,
   "id": "77fc4a00-0761-4894-b227-9b151ef06f02",
   "metadata": {},
   "outputs": [
    {
     "name": "stdout",
     "output_type": "stream",
     "text": [
      "UF;cod;nome;pop_total\n",
      "MG;3166600;Serra da Saudade;833\n",
      "SP;3507209;Borá;907\n",
      "GO;5201207;Anhanguera;924\n",
      "MT;5101209;Araguainha;1010\n",
      "SP;3532868;Nova Castilho;1062\n",
      "MG;3115607;Cedro do Abaeté;1081\n",
      "RS;4300661;André da Rocha;1135\n",
      "TO;1715507;Oliveira de Fátima;1164\n",
      "RS;4322350;União da Serra;1170\n"
     ]
    }
   ],
   "source": [
    "awk -F';' 'BEGIN{OFS=\";\"} \n",
    "NR==1 {print $1, \"cod\", \"nome\", \"pop_total\"} \n",
    "NR>1 {print $1, $2 $3, $4, $5}' temp.csv | head"
   ]
  },
  {
   "cell_type": "markdown",
   "id": "d298ec52-52e5-43d6-ad7f-4a35f92b9cc4",
   "metadata": {},
   "source": [
    "Salvamos a saída em um novo arquivo e removemos o arquivo temporário:"
   ]
  },
  {
   "cell_type": "code",
   "execution_count": 13,
   "id": "528239bf-cd1a-4734-b36b-9e2c600bdead",
   "metadata": {},
   "outputs": [],
   "source": [
    "awk -F';' 'BEGIN{OFS=\";\"} \n",
    "NR==1 {print $1, \"cod\", \"nome\", \"pop_total\"} \n",
    "NR>1 {print $1, $2 $3, $4, $5}' temp.csv > censo_2022.csv\n",
    "rm -f temp.csv"
   ]
  },
  {
   "cell_type": "markdown",
   "id": "e397b5cd-6c79-4c02-91d0-7183e45fca85",
   "metadata": {},
   "source": [
    "Agora, adicionamos a coluna \"pop_total\" da tabela do Censo 2022 ao arquivo que contém a tabela da taxa de homicídios:"
   ]
  },
  {
   "cell_type": "code",
   "execution_count": 25,
   "id": "c8aa2378-5d7c-4604-9771-3a52c23f314b",
   "metadata": {},
   "outputs": [
    {
     "name": "stdout",
     "output_type": "stream",
     "text": [
      "Cod_Mun;UF;Município;População;Período;Taxa\n",
      "2407906;RN;Monte das Gameleiras;2276;2020;8925\n",
      "1501402;PA;Belém;1303403;2022;7179.16\n",
      "3550506;SP;São Pedro do Turvo;7217;2020;4937\n",
      "1600253;AP;Itaubal;5599;2020;4717\n",
      "4209177;SC;Jupiá;2555;2020;3298\n",
      "2611705;PE;Riacho das Almas;20639;2020;3003\n",
      "4113759;PR;Lunardelli;4872;2020;2592\n",
      "3513850;SP;Dirce Reis;1620;2020;2445\n",
      "2109908;MA;Santa Inês;85014;2022;2402.75\n"
     ]
    }
   ],
   "source": [
    "join -1 2 -2 1 -t\";\" <(sort -t\";\" -k2 censo_2022.csv) \\\n",
    "<(sort -t\";\" -k1 taxa_homicidios_2024.csv) | \\\n",
    "awk '{FS=OFS=\";\"} {print $1, $2, $3, $4, $6, $7}' | \\\n",
    "sort -t';' -k6,6gr | \\\n",
    "awk 'BEGIN {F=OFS=\";\"} NR == 1 {print \"Cod_Mun;UF;Município;População;Período;Taxa\"} \n",
    "NR > 1 { print $0}' | head"
   ]
  },
  {
   "cell_type": "markdown",
   "id": "92ad5087-f5d6-4490-9bad-655087bd5308",
   "metadata": {},
   "source": [
    "Salvamos a saída em um novo arquivo:"
   ]
  },
  {
   "cell_type": "code",
   "execution_count": 26,
   "id": "eeac1c11-848c-41ac-9e9d-c028bee02e4c",
   "metadata": {},
   "outputs": [],
   "source": [
    "join -1 2 -2 1 -t\";\" <(sort -t\";\" -k2 censo_2022.csv) \\\n",
    "<(sort -t\";\" -k1 taxa_homicidios_2024.csv) | \\\n",
    "awk '{FS=OFS=\";\"} {print $1, $2, $3, $4, $6, $7}' | \\\n",
    "sort -t';' -k6,6gr | \\\n",
    "awk 'BEGIN {F=OFS=\";\"} NR == 1 {print \"Cod_Mun;UF;Município;População;Período;Taxa\"} \n",
    "NR > 1 { print $0}' > th2024.csv"
   ]
  },
  {
   "attachments": {},
   "cell_type": "markdown",
   "id": "558a5665-d658-4ee8-a3e8-ffc96fcba3ec",
   "metadata": {},
   "source": [
    "De acordo com notícia veiculada pelo G1 Bahia, Santo Antônio de Jesus, município situado no recôncavo baiano, possui a maior taxa de homicídios do Brasil.\n",
    "\n",
    "<center>\n",
    "<img src=\"oglobo_1.png\" width=\"360\" height=\"180\">\n",
    "</center>\n",
    "\n"
   ]
  },
  {
   "cell_type": "markdown",
   "id": "89cb832d-efc7-40ed-b416-622211f9a4ee",
   "metadata": {},
   "source": [
    "A taxa de homicídios e a população do município mencionadas na matéria condizem com as informações do Atlas e do Censo:\n",
    "<center>\n",
    "<img src=\"oglobo_2.png\" width=\"360\" height=\"180\">\n",
    "</center>\n"
   ]
  },
  {
   "cell_type": "code",
   "execution_count": 35,
   "id": "785726c9-da25-45ed-9e09-8a92175c397a",
   "metadata": {},
   "outputs": [
    {
     "name": "stdout",
     "output_type": "stream",
     "text": [
      "2928703;BA;Santo Antônio de Jesus;103055;2022;93.15\n"
     ]
    }
   ],
   "source": [
    "awk -F\";\" '($3 ~ /Santo Antônio de Jesus/ && $5 == 2022) {print $0}' th2024.csv | head"
   ]
  },
  {
   "cell_type": "markdown",
   "id": "1b9b976b-b71e-4e6f-afd9-fbb617d9948f",
   "metadata": {},
   "source": [
    "Contudo, quando ordenamos os municípios do Estado da Bahia em ordem descendente, pela taxa de homicídios, para o ano de 2022, os dados apresentam anomalias:"
   ]
  },
  {
   "cell_type": "code",
   "execution_count": 36,
   "id": "bc7f2e92-01e4-4f8a-88af-fcca222775e1",
   "metadata": {},
   "outputs": [
    {
     "name": "stdout",
     "output_type": "stream",
     "text": [
      "2903409;BA;Belmonte;20121;2022;1015.8\n",
      "2910503;BA;Entre Rios;38098;2022;587.89\n",
      "2925006;BA;Planalto;23334;2022;364.55\n",
      "2906501;BA;Candeias;72382;2022;357.12\n",
      "2933208;BA;Vera Cruz;42529;2022;202.17\n",
      "2902401;BA;Aurelino Leal;11179;2022;178.91\n",
      "2928950;BA;São Domingos;8426;2022;154.14\n",
      "2931103;BA;Tanquinho;7717;2022;142.54\n",
      "2915007;BA;Itaeté;13472;2022;126.19\n",
      "2932309;BA;Ubatã;16094;2022;124.27\n"
     ]
    }
   ],
   "source": [
    "awk -F\";\" '($2 ~ /BA/ && $5 == 2022) {print $0}' th2024.csv | head"
   ]
  },
  {
   "cell_type": "markdown",
   "id": "0901b57b-20c7-40ad-8835-01aa464c6948",
   "metadata": {},
   "source": [
    "O mesmo acontece quando classificamos em nível nacional, como já visto anteriormente:"
   ]
  },
  {
   "cell_type": "code",
   "execution_count": 37,
   "id": "94bf11cf-8da9-408e-b563-e57d61a27ec5",
   "metadata": {},
   "outputs": [
    {
     "name": "stdout",
     "output_type": "stream",
     "text": [
      "Cod_Mun;UF;Município;População;Período;Taxa\n",
      "2407906;RN;Monte das Gameleiras;2276;2020;8925\n",
      "1501402;PA;Belém;1303403;2022;7179.16\n",
      "3550506;SP;São Pedro do Turvo;7217;2020;4937\n",
      "1600253;AP;Itaubal;5599;2020;4717\n",
      "4209177;SC;Jupiá;2555;2020;3298\n",
      "2611705;PE;Riacho das Almas;20639;2020;3003\n",
      "4113759;PR;Lunardelli;4872;2020;2592\n",
      "3513850;SP;Dirce Reis;1620;2020;2445\n",
      "2109908;MA;Santa Inês;85014;2022;2402.75\n"
     ]
    }
   ],
   "source": [
    "awk -F\";\" '{print $0}' th2024.csv | head"
   ]
  },
  {
   "cell_type": "code",
   "execution_count": null,
   "id": "f9a718ce-6468-45d1-a807-4688c535acc8",
   "metadata": {},
   "outputs": [],
   "source": []
  }
 ],
 "metadata": {
  "kernelspec": {
   "display_name": "Bash",
   "language": "bash",
   "name": "bash"
  },
  "language_info": {
   "codemirror_mode": "shell",
   "file_extension": ".sh",
   "mimetype": "text/x-sh",
   "name": "bash"
  }
 },
 "nbformat": 4,
 "nbformat_minor": 5
}
